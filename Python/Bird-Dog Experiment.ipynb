{
 "cells": [
  {
   "cell_type": "markdown",
   "metadata": {
    "colab_type": "text",
    "id": "DYM1YMkhbqCS"
   },
   "source": [
    "# Imports and helper functions"
   ]
  },
  {
   "cell_type": "code",
   "execution_count": 1,
   "metadata": {
    "colab": {},
    "colab_type": "code",
    "id": "NV91kj4piFpx"
   },
   "outputs": [],
   "source": [
    "import collections\n",
    "\n",
    "import numpy as np\n",
    "import matplotlib.pyplot as plt\n",
    "import seaborn as sns\n",
    "\n",
    "from sklearn.manifold import TSNE\n",
    "from sklearn.decomposition import PCA\n",
    "\n",
    "import tensorflow as tf\n",
    "import tensorflow_datasets as tfds\n",
    "import sonnet as snt"
   ]
  },
  {
   "cell_type": "code",
   "execution_count": 2,
   "metadata": {
    "colab": {},
    "colab_type": "code",
    "id": "JpVHI6YK8mLQ"
   },
   "outputs": [],
   "source": [
    "def sample_trial(pi, batch_size, class1, class2):\n",
    "  \"\"\"Implements dynamics for laboratory-style experiment.\n",
    "\n",
    "  With 50/50 probability choose either class 1 or class 2.\n",
    "  For class 2 return a random image and reward 1.0,\n",
    "  for class 1 return a random image and a reward of 3.0\n",
    "  with probability pi[0], otherwise -1.0.\n",
    "  \"\"\"\n",
    "\n",
    "  images = np.zeros((batch_size, ) + class1[0].shape)\n",
    "  rewards = np.zeros(batch_size)\n",
    "  \n",
    "  for b in range(batch_size):\n",
    "    if np.random.random() < 0.5:\n",
    "      images[b] = class2[np.random.randint(len(class2))]\n",
    "      rewards[b] = 1.\n",
    "    else:\n",
    "      images[b] = class1[np.random.randint(len(class1))]\n",
    "      rewards[b] = 3. if np.random.random() < pi else -1.\n",
    "\n",
    "  return images, rewards\n",
    "\n",
    "def running_mean(x, N):\n",
    "  \"\"\"Compute a moving-window average\"\"\"\n",
    "  cumsum = np.pad(np.cumsum(x), [1, 0], 'constant')\n",
    "  return (cumsum[N:] - cumsum[:-N]) / float(N)\n",
    "  "
   ]
  },
  {
   "cell_type": "code",
   "execution_count": 3,
   "metadata": {
    "colab": {},
    "colab_type": "code",
    "id": "FWGhcYxy4_zR"
   },
   "outputs": [
    {
     "ename": "AttributeError",
     "evalue": "module 'sonnet' has no attribute 'AbstractModule'",
     "output_type": "error",
     "traceback": [
      "\u001b[0;31m---------------------------------------------------------------------------\u001b[0m",
      "\u001b[0;31mAttributeError\u001b[0m                            Traceback (most recent call last)",
      "\u001b[0;32m<ipython-input-3-a0fb6b89b352>\u001b[0m in \u001b[0;36m<module>\u001b[0;34m\u001b[0m\n\u001b[1;32m      1\u001b[0m \u001b[0m_Outputs\u001b[0m \u001b[0;34m=\u001b[0m \u001b[0mcollections\u001b[0m\u001b[0;34m.\u001b[0m\u001b[0mnamedtuple\u001b[0m\u001b[0;34m(\u001b[0m\u001b[0;34m'Outputs'\u001b[0m\u001b[0;34m,\u001b[0m \u001b[0;34m[\u001b[0m\u001b[0;34m'activations'\u001b[0m\u001b[0;34m,\u001b[0m \u001b[0;34m'values'\u001b[0m\u001b[0;34m]\u001b[0m\u001b[0;34m)\u001b[0m\u001b[0;34m\u001b[0m\u001b[0;34m\u001b[0m\u001b[0m\n\u001b[1;32m      2\u001b[0m \u001b[0;34m\u001b[0m\u001b[0m\n\u001b[0;32m----> 3\u001b[0;31m \u001b[0;32mclass\u001b[0m \u001b[0mCifar10ValueNet\u001b[0m\u001b[0;34m(\u001b[0m\u001b[0msnt\u001b[0m\u001b[0;34m.\u001b[0m\u001b[0mAbstractModule\u001b[0m\u001b[0;34m)\u001b[0m\u001b[0;34m:\u001b[0m\u001b[0;34m\u001b[0m\u001b[0;34m\u001b[0m\u001b[0m\n\u001b[0m\u001b[1;32m      4\u001b[0m   \u001b[0;34m\"\"\"Based upon the Cifar10ConvNet in Sonnet 2.\"\"\"\u001b[0m\u001b[0;34m\u001b[0m\u001b[0;34m\u001b[0m\u001b[0m\n\u001b[1;32m      5\u001b[0m   def __init__(self,\n",
      "\u001b[0;31mAttributeError\u001b[0m: module 'sonnet' has no attribute 'AbstractModule'"
     ]
    }
   ],
   "source": [
    "_Outputs = collections.namedtuple('Outputs', ['activations', 'values'])\n",
    "\n",
    "class Cifar10ValueNet(snt.AbstractModule):\n",
    "  \"\"\"Based upon the Cifar10ConvNet in Sonnet 2.\"\"\"\n",
    "  def __init__(self,\n",
    "               num_atoms,\n",
    "               initializers=None,\n",
    "               regularizers=None,\n",
    "               partitioners=None,\n",
    "               custom_getter=None,\n",
    "               name=\"cifar10_convnet\"):\n",
    "    super(Cifar10ValueNet, self).__init__(custom_getter=custom_getter, name=name)\n",
    "\n",
    "    self._num_atoms = num_atoms\n",
    "    self._output_channels = [\n",
    "        64, 64, 128, 128, 128, 256, 256, 256, 512, 512, 512\n",
    "    ]\n",
    "\n",
    "    self._num_layers = len(self._output_channels)\n",
    "    self._kernel_shapes = [[3, 3]] * self._num_layers  # All kernels are 3x3.\n",
    "    self._strides = [1, 1, 2, 1, 1, 2, 1, 1, 2, 1, 1]\n",
    "    self._paddings = [snt.SAME] * self._num_layers\n",
    "\n",
    "    self._initializers = initializers\n",
    "    self._regularizers = regularizers\n",
    "    self._partitioners = partitioners\n",
    "\n",
    "    with self._enter_variable_scope():\n",
    "      self._layers = tuple(\n",
    "          snt.Conv2D(\n",
    "              name=\"conv_net_2d/conv_2d_{}\".format(i),\n",
    "              output_channels=self._output_channels[i],\n",
    "              kernel_shape=self._kernel_shapes[i],\n",
    "              stride=self._strides[i],\n",
    "              padding=self._paddings[i],\n",
    "              initializers=initializers,\n",
    "              regularizers=regularizers,\n",
    "              partitioners=partitioners,\n",
    "              use_bias=True) for i in range(self._num_layers))\n",
    "\n",
    "  def _build(self, inputs):\n",
    "    \"\"\"Connects the module into the graph.\n",
    "\n",
    "    Args:\n",
    "      inputs: A Tensor of size [batch_size, input_height, input_width,\n",
    "        input_channels], representing a batch of input images.\n",
    "      is_training: Boolean to indicate to `snt.BatchNorm` if we are\n",
    "        currently training. By default `True`.\n",
    "      test_local_stats: Boolean to indicate to `snt.BatchNorm` if batch\n",
    "        normalization should  use local batch statistics at test time.\n",
    "        By default `True`.\n",
    "      get_intermediate_activations: Boolean to indicate whether the activations\n",
    "        of intermediate layers should be returned when the module is called.\n",
    "        False by default.\n",
    "\n",
    "    Returns:\n",
    "      If get_intermediate_activations is False, a Tensor corresponding to the\n",
    "        output logits of the network.\n",
    "      If get_intermediate_activations is True, a list of tf.Tensor, the feature\n",
    "        activations of the module. The order of the activations is preserved in\n",
    "        the output list. Namely, output[0], corresponds to the first layer\n",
    "        activations, and output[1] corresponds to the feature activations of the\n",
    "        second block, and so on. The activations in the output list are those\n",
    "        computed after the activation function is applied, if one is applied at\n",
    "        that layer.\n",
    "\n",
    "      In both cases, the shapes of the returned Tensors depends on the size\n",
    "      of the input Tensor.\n",
    "    \"\"\"\n",
    "\n",
    "    net = inputs\n",
    "    for i, layer in enumerate(self._layers):\n",
    "      net = layer(net)\n",
    "      net = tf.nn.relu(net)\n",
    "\n",
    "    flat_output = tf.reduce_mean(\n",
    "        net, reduction_indices=[1, 2], keepdims=False, name=\"avg_pool\")\n",
    "\n",
    "    # Replace classifier output with linear function predicting values\n",
    "    values = snt.Linear(\n",
    "        self._num_atoms,\n",
    "        initializers=self._initializers,\n",
    "        regularizers=self._regularizers,\n",
    "        partitioners=self._partitioners)(flat_output)\n",
    "\n",
    "    return _Outputs(activations=flat_output, values=values)\n"
   ]
  },
  {
   "cell_type": "markdown",
   "metadata": {
    "colab_type": "text",
    "id": "cQ1XjxkbcH3C"
   },
   "source": [
    "# Bird-dog experiment"
   ]
  },
  {
   "cell_type": "markdown",
   "metadata": {
    "colab_type": "text",
    "id": "j1lUxWRYK4Os"
   },
   "source": [
    "## Load Cifar10 train and test data\n",
    "\n",
    "We load for 'dog'/'bird' (primary experiment) and 'airplane'/'ship' (control experiment)\n",
    "\n",
    "Class label indices:\n",
    "airplane (0), automobile (1), bird (2), cat (3), deer (4), dog (5), frog (6), horse (7), ship (8), truck (9)"
   ]
  },
  {
   "cell_type": "code",
   "execution_count": null,
   "metadata": {
    "colab": {},
    "colab_type": "code",
    "id": "P-7M78xgMDwU"
   },
   "outputs": [],
   "source": [
    "class1_ind = 5 # dog\n",
    "class2_ind = 2 # bird\n",
    "\n",
    "class1_neg_ind = 0 # airplane\n",
    "class2_neg_ind = 8 # ship"
   ]
  },
  {
   "cell_type": "code",
   "execution_count": null,
   "metadata": {
    "colab": {},
    "colab_type": "code",
    "id": "4SkZwqkteyGS"
   },
   "outputs": [],
   "source": [
    "# Load training images for the targeted image classes\n",
    "train_ds = tfds.load(\"cifar10\", split=tfds.Split.TRAIN)\n",
    "train_class1, train_class2 = [], []\n",
    "train_neg_class1, train_neg_class2 = [], []\n",
    "\n",
    "for example in tfds.as_numpy(train_ds):\n",
    "  numpy_image, numpy_label = example[\"image\"], example[\"label\"]\n",
    "  if numpy_label == class1_ind:\n",
    "    train_class1.append(numpy_image)\n",
    "  elif numpy_label == class2_ind:\n",
    "    train_class2.append(numpy_image)\n",
    "  elif numpy_label == class1_neg_ind:\n",
    "    train_neg_class1.append(numpy_image)\n",
    "  elif numpy_label == class2_neg_ind:\n",
    "    train_neg_class2.append(numpy_image)\n",
    "\n",
    "# Load testing images for the targeted image classes\n",
    "test_ds = tfds.load(\"cifar10\", split=tfds.Split.TEST)\n",
    "test_class1, test_class2 = [], []\n",
    "test_neg_class1, test_neg_class2 = [], []\n",
    "\n",
    "for example in tfds.as_numpy(test_ds):\n",
    "  numpy_image, numpy_label = example[\"image\"], example[\"label\"]\n",
    "  if numpy_label == class1_ind:\n",
    "    test_class1.append(numpy_image)\n",
    "  elif numpy_label == class2_ind:\n",
    "    test_class2.append(numpy_image)\n",
    "  elif numpy_label == class1_neg_ind:\n",
    "    test_neg_class1.append(numpy_image)\n",
    "  elif numpy_label == class2_neg_ind:\n",
    "    test_neg_class2.append(numpy_image)\n",
    "\n",
    "train_class1 = np.array(train_class1)\n",
    "train_class2 = np.array(train_class2)\n",
    "train_neg_class1 = np.array(train_neg_class1)\n",
    "train_neg_class2 = np.array(train_neg_class2)\n",
    "\n",
    "test_class1 = np.array(test_class1)\n",
    "test_class2 = np.array(test_class2)\n",
    "test_neg_class1 = np.array(test_neg_class1)\n",
    "test_neg_class2 = np.array(test_neg_class2)\n"
   ]
  },
  {
   "cell_type": "code",
   "execution_count": null,
   "metadata": {
    "colab": {
     "height": 51
    },
    "colab_type": "code",
    "executionInfo": {
     "elapsed": 448,
     "status": "ok",
     "timestamp": 1572434922052,
     "user": {
      "displayName": "Will Dabney",
      "photoUrl": "https://lh3.googleusercontent.com/a-/AAuE7mCOxUtioWGFXw0drXIZim8YK5cY80SC28F5s1BF=s64",
      "userId": "17850665393886971433"
     },
     "user_tz": 0
    },
    "id": "jsboF854fJiF",
    "outputId": "50e4ddae-328f-45f5-f0f7-684307c0c491"
   },
   "outputs": [],
   "source": [
    "print(\"Train:\", train_class1.shape, train_class2.shape, train_neg_class1.shape, train_neg_class2.shape)\n",
    "print(\"Test:\", test_class1.shape, test_class2.shape, test_neg_class1.shape, test_neg_class2.shape)"
   ]
  },
  {
   "cell_type": "code",
   "execution_count": null,
   "metadata": {
    "colab": {
     "height": 475
    },
    "colab_type": "code",
    "executionInfo": {
     "elapsed": 1946,
     "status": "ok",
     "timestamp": 1572434924021,
     "user": {
      "displayName": "Will Dabney",
      "photoUrl": "https://lh3.googleusercontent.com/a-/AAuE7mCOxUtioWGFXw0drXIZim8YK5cY80SC28F5s1BF=s64",
      "userId": "17850665393886971433"
     },
     "user_tz": 0
    },
    "id": "PusGYmktMVMR",
    "outputId": "32b33ccf-3cac-4170-81bf-b8bfa3c6a569"
   },
   "outputs": [],
   "source": [
    "# Display some example images for the primary experiment\n",
    "# (test set in the final row)\n",
    "\n",
    "fig = plt.figure(figsize=(8,8))\n",
    "cnt = 1\n",
    "\n",
    "for i in range(4):\n",
    "  for j in range(6):\n",
    "    plt.subplot(5, 6, cnt)\n",
    "    cnt += 1\n",
    "    if j <= 2:\n",
    "      plt.imshow(train_class1[np.random.randint(len(train_class1))], interpolation='none')\n",
    "    else:\n",
    "      plt.imshow(train_class2[np.random.randint(len(train_class2))], interpolation='none')\n",
    "    plt.gca().axis('off')\n",
    "\n",
    "for j in range(6):\n",
    "  plt.subplot(5, 6, cnt)\n",
    "  cnt += 1\n",
    "  if j <= 2:\n",
    "    plt.imshow(test_class1[np.random.randint(len(test_class1))], interpolation='none')\n",
    "  else:\n",
    "    plt.imshow(test_class2[np.random.randint(len(test_class2))], interpolation='none')\n",
    "  plt.gca().axis('off')\n"
   ]
  },
  {
   "cell_type": "code",
   "execution_count": null,
   "metadata": {
    "colab": {
     "height": 475
    },
    "colab_type": "code",
    "executionInfo": {
     "elapsed": 1783,
     "status": "ok",
     "timestamp": 1572434925834,
     "user": {
      "displayName": "Will Dabney",
      "photoUrl": "https://lh3.googleusercontent.com/a-/AAuE7mCOxUtioWGFXw0drXIZim8YK5cY80SC28F5s1BF=s64",
      "userId": "17850665393886971433"
     },
     "user_tz": 0
    },
    "id": "XlHPpRJYNEt2",
    "outputId": "aba48fa9-182e-4efb-c3e8-faea76cc6d30"
   },
   "outputs": [],
   "source": [
    "# Display some example images for the control experiment\n",
    "# (test set in the final row)\n",
    "\n",
    "fig = plt.figure(figsize=(8,8))\n",
    "cnt = 1\n",
    "for i in range(4):\n",
    "  for j in range(6):\n",
    "    plt.subplot(5, 6, cnt)\n",
    "    cnt += 1\n",
    "    if j <= 2:\n",
    "      plt.imshow(train_neg_class1[np.random.randint(len(train_neg_class1))], interpolation='none')\n",
    "    else:\n",
    "      plt.imshow(train_neg_class2[np.random.randint(len(train_neg_class2))], interpolation='none')\n",
    "    plt.gca().axis('off')\n",
    "\n",
    "for j in range(6):\n",
    "  plt.subplot(5, 6, cnt)\n",
    "  cnt += 1\n",
    "  if j <= 2:\n",
    "    plt.imshow(test_neg_class1[np.random.randint(len(test_neg_class1))], interpolation='none')\n",
    "  else:\n",
    "    plt.imshow(test_neg_class2[np.random.randint(len(test_neg_class2))], interpolation='none')\n",
    "  plt.gca().axis('off')\n"
   ]
  },
  {
   "cell_type": "markdown",
   "metadata": {
    "colab_type": "text",
    "id": "AP9sHfvvOpVw"
   },
   "source": [
    "## Run BirdDog experiment"
   ]
  },
  {
   "cell_type": "code",
   "execution_count": null,
   "metadata": {
    "colab": {
     "height": 34
    },
    "colab_type": "code",
    "executionInfo": {
     "elapsed": 1334,
     "status": "ok",
     "timestamp": 1572434927201,
     "user": {
      "displayName": "Will Dabney",
      "photoUrl": "https://lh3.googleusercontent.com/a-/AAuE7mCOxUtioWGFXw0drXIZim8YK5cY80SC28F5s1BF=s64",
      "userId": "17850665393886971433"
     },
     "user_tz": 0
    },
    "id": "G4Ok6A4F-sdR",
    "outputId": "21420724-0bdc-4370-fc6d-b62c794f3ff5"
   },
   "outputs": [],
   "source": [
    "tf.reset_default_graph()\n",
    "# tf.Session.reset(\"local\")\n",
    "print('Setting up graph...')\n",
    "\n",
    "width, height = train_class1.shape[1:-1]\n",
    "batch_size = 256\n",
    "\n",
    "pi = 0.5  # Probability of 'happy' dog (outcome 0) for Task 1\n",
    "mu = 1.0  # Probability of 'happy' dog (outcome 0) for Task 2\n",
    "\n",
    "input_ph = tf.placeholder(\n",
    "    tf.float32, shape=[None, width, height, 3], name=\"images\")\n",
    "reward_ph = tf.placeholder(tf.float32, shape=[None], name=\"rewards\")\n",
    "\n",
    "# Classic TD\n",
    "value_net = Cifar10ValueNet(1)\n",
    "output = value_net(input_ph)\n",
    "values = tf.reshape(output.values, [-1])\n",
    "td_features = output.activations\n",
    "\n",
    "# Classic TD loss function\n",
    "delta = reward_ph - values\n",
    "td_loss = tf.reduce_mean(0.5 * tf.square(delta))\n",
    "mse = tf.reduce_mean(tf.square(reward_ph - values))\n",
    "\n",
    "# Distributional TD\n",
    "n_atoms = 64\n",
    "dist_net = Cifar10ValueNet(n_atoms)\n",
    "taus_np = np.linspace(0., 1., n_atoms+2)[1:-1]\n",
    "taus = tf.constant(taus_np, dtype=tf.float32)\n",
    "\n",
    "output = dist_net(input_ph)\n",
    "dist_values = output.values\n",
    "dtd_features = output.activations\n",
    "\n",
    "# Distributional TD loss function\n",
    "delta = reward_ph[:, None] - dist_values\n",
    "indic = tf.cast(delta <= 0., dtype=tf.float32)\n",
    "weights = tf.stop_gradient(tf.abs(taus[None] - indic))\n",
    "\n",
    "dtd_loss = tf.reduce_mean(weights * tf.abs(delta))\n",
    "mse_dtd = tf.reduce_mean(tf.square(reward_ph - tf.reduce_mean(dist_values, -1)))\n",
    "\n",
    "optimizer = tf.train.AdamOptimizer(0.0005)\n",
    "update = optimizer.minimize(td_loss + dtd_loss)\n"
   ]
  },
  {
   "cell_type": "code",
   "execution_count": null,
   "metadata": {
    "colab": {
     "height": 697
    },
    "colab_type": "code",
    "executionInfo": {
     "elapsed": 2129835,
     "status": "ok",
     "timestamp": 1572437057067,
     "user": {
      "displayName": "Will Dabney",
      "photoUrl": "https://lh3.googleusercontent.com/a-/AAuE7mCOxUtioWGFXw0drXIZim8YK5cY80SC28F5s1BF=s64",
      "userId": "17850665393886971433"
     },
     "user_tz": 0
    },
    "id": "IVCPbLTruwqe",
    "outputId": "39e5f070-001e-410b-9108-d148633a1d03"
   },
   "outputs": [],
   "source": [
    "num_updates = 1000\n",
    "num_trials = 10\n",
    "\n",
    "losses = np.zeros((2, num_trials, num_updates,))\n",
    "transfer_losses = np.zeros((2, num_trials, num_updates,))\n",
    "mserrors = np.zeros((2, num_trials, num_updates, 2))\n",
    "\n",
    "for trial in range(num_trials):\n",
    "  with tf.Session() as sess:\n",
    "    sess.run(tf.initialize_all_variables())\n",
    "\n",
    "    # Extract features and values on test set (before training)\n",
    "    ex1_td_init_features, ex1_dtd_init_features = sess.run(\n",
    "        [td_features, dtd_features],\n",
    "        feed_dict={input_ph: test_class1})\n",
    "    ex2_td_init_features, ex2_dtd_init_features = sess.run(\n",
    "        [td_features, dtd_features],\n",
    "        feed_dict={input_ph: test_class2})\n",
    "\n",
    "    # Train for Task 1\n",
    "    for epoch in range(num_updates):\n",
    "      imgs, rwds = sample_trial(pi, batch_size, train_class1, train_class2)\n",
    "      _, loss_np, dloss_np, mse_np, dmse_np = sess.run(\n",
    "          [update, td_loss, dtd_loss, mse, mse_dtd],\n",
    "          feed_dict={input_ph: imgs, reward_ph: rwds})\n",
    "\n",
    "      # Record losses and mean-square errors for later analysis\n",
    "      losses[0, trial, epoch] = loss_np\n",
    "      losses[1, trial, epoch] = dloss_np\n",
    "      mserrors[0, trial, epoch, 0] = mse_np\n",
    "      mserrors[1, trial, epoch, 0] = dmse_np\n",
    "\n",
    "      if epoch % 500 == 0:\n",
    "        print(\"%d: Task 1 Loss %d: %f, %f\" % (trial, epoch, loss_np, dloss_np))\n",
    "\n",
    "    # Extract features and values on test set (after task 1, before task 2)\n",
    "    ex1_td_values, ex1_td_features, ex1_dtd_values, ex1_dtd_features = sess.run(\n",
    "        [values, td_features, dist_values, dtd_features],\n",
    "        feed_dict={input_ph: test_class1})\n",
    "    ex2_td_values, ex2_td_features, ex2_dtd_values, ex2_dtd_features = sess.run(\n",
    "        [values, td_features, dist_values, dtd_features],\n",
    "        feed_dict={input_ph: test_class2})\n",
    "\n",
    "    # Train for Task 2 (observe we change from pi to mu)\n",
    "    for epoch in range(num_updates):\n",
    "      imgs, rwds = sample_trial(mu, batch_size, train_class1, train_class2)\n",
    "      _, loss_np, dloss_np, mse_np, dmse_np = sess.run(\n",
    "          [update, td_loss, dtd_loss, mse, mse_dtd],\n",
    "          feed_dict={input_ph: imgs, reward_ph: rwds})\n",
    "\n",
    "      # Record losses and mean-square errors for later analysis\n",
    "      transfer_losses[0, trial, epoch] = loss_np\n",
    "      transfer_losses[1, trial, epoch] = dloss_np\n",
    "      mserrors[0, trial, epoch, 1] = mse_np\n",
    "      mserrors[1, trial, epoch, 1] = dmse_np\n",
    "\n",
    "      if epoch % 500 == 0:\n",
    "        print(\"%d: Task 2 Loss %d: %f %f\" % (trial, epoch, loss_np, dloss_np))\n",
    "\n",
    "    # Extract features and values on test set (after task 1 *and* task 2)\n",
    "    tex1_td_values, tex1_td_features, tex1_dtd_values, tex1_dtd_features = sess.run(\n",
    "        [values, td_features, dist_values, dtd_features],\n",
    "        feed_dict={input_ph: test_class1})\n",
    "    tex2_td_values, tex2_td_features, tex2_dtd_values, tex2_dtd_features = sess.run(\n",
    "        [values, td_features, dist_values, dtd_features],\n",
    "        feed_dict={input_ph: test_class2})\n"
   ]
  },
  {
   "cell_type": "markdown",
   "metadata": {
    "colab_type": "text",
    "id": "Ix8uAhnFTaAn"
   },
   "source": [
    "## Visualize results"
   ]
  },
  {
   "cell_type": "code",
   "execution_count": null,
   "metadata": {
    "colab": {},
    "colab_type": "code",
    "id": "0NnsBbpY26mR"
   },
   "outputs": [],
   "source": [
    "colours = [\n",
    "    '#e74c3c',\n",
    "    '#38495C',\n",
    "]"
   ]
  },
  {
   "cell_type": "code",
   "execution_count": null,
   "metadata": {
    "colab": {
     "height": 325
    },
    "colab_type": "code",
    "executionInfo": {
     "elapsed": 1171,
     "status": "ok",
     "timestamp": 1572437058943,
     "user": {
      "displayName": "Will Dabney",
      "photoUrl": "https://lh3.googleusercontent.com/a-/AAuE7mCOxUtioWGFXw0drXIZim8YK5cY80SC28F5s1BF=s64",
      "userId": "17850665393886971433"
     },
     "user_tz": 0
    },
    "id": "MG4FeCblUf0z",
    "outputId": "96181f48-c6bd-402b-cbbe-eec9df05907c"
   },
   "outputs": [],
   "source": [
    "sns.set_style('whitegrid')\n",
    "plt.figure(figsize=(12, 4))\n",
    "window = 10\n",
    "\n",
    "plt.subplot(1, 2, 1)\n",
    "plt.plot(running_mean(losses[0].mean(0), window), label=\"TD\", color=colours[1], lw=2)\n",
    "plt.plot(running_mean(losses[1].mean(0), window), label=\"Distributional TD\", color=colours[0], lw=2)\n",
    "\n",
    "for trial in range(num_trials):\n",
    "  plt.plot(running_mean(losses[0, trial], window), label=None, color=colours[1], lw=1, alpha=0.25)\n",
    "  plt.plot(running_mean(losses[1, trial], window), label=None, color=colours[0], lw=1, alpha=0.25)\n",
    "\n",
    "plt.title(\"Task 1\", fontsize=18)\n",
    "plt.xlabel(\"Training Iterations\", fontsize=16)\n",
    "plt.ylabel(\"Loss\", fontsize=16)\n",
    "plt.tick_params(top=False, right=False, labelsize=14)\n",
    "plt.ylim([0., 5.])\n",
    "\n",
    "plt.subplot(1, 2, 2)\n",
    "plt.plot(running_mean(transfer_losses[0].mean(0), window), label=\"TD\", color=colours[1], lw=2)\n",
    "plt.plot(running_mean(transfer_losses[1].mean(0), window), label=\"Distributional TD\", color=colours[0], lw=2)\n",
    "\n",
    "for trial in range(num_trials):\n",
    "  plt.plot(running_mean(transfer_losses[0, trial], window), label=None, color=colours[1], lw=1, alpha=0.25)\n",
    "  plt.plot(running_mean(transfer_losses[1, trial], window), label=None, color=colours[0], lw=1, alpha=0.25)\n",
    "\n",
    "\n",
    "plt.title(\"Task 2\", fontsize=18)\n",
    "plt.xlabel(\"Training Iterations\", fontsize=16)\n",
    "plt.ylabel(\"Loss\", fontsize=16)\n",
    "plt.tick_params(top=False, right=False, labelsize=14)\n",
    "plt.legend(loc='best', fontsize=16)\n",
    "\n",
    "plt.savefig(\"birddog_loss.pdf\")\n",
    "%download_file birddog_loss.pdf"
   ]
  },
  {
   "cell_type": "code",
   "execution_count": null,
   "metadata": {
    "colab": {
     "height": 325
    },
    "colab_type": "code",
    "executionInfo": {
     "elapsed": 1169,
     "status": "ok",
     "timestamp": 1572437060139,
     "user": {
      "displayName": "Will Dabney",
      "photoUrl": "https://lh3.googleusercontent.com/a-/AAuE7mCOxUtioWGFXw0drXIZim8YK5cY80SC28F5s1BF=s64",
      "userId": "17850665393886971433"
     },
     "user_tz": 0
    },
    "id": "RaMxtpQQ8cYb",
    "outputId": "369956e6-212b-4907-f899-b95ff70dd354"
   },
   "outputs": [],
   "source": [
    "plt.figure(figsize=(12, 4))\n",
    "window = 10\n",
    "sns.set_style('whitegrid')\n",
    "\n",
    "plt.subplot(1, 2, 1)\n",
    "plt.plot(running_mean(mserrors[0, ..., 0].mean(0), window), label=\"TD\", color=colours[1], lw=2)\n",
    "plt.plot(running_mean(mserrors[1, ..., 0].mean(0), window), label=\"Distributional TD\", color=colours[0], lw=2)\n",
    "\n",
    "for trial in range(num_trials):\n",
    "  plt.plot(running_mean(mserrors[0, trial, :, 0], window), label=None, color=colours[1], lw=1, alpha=0.25)\n",
    "  plt.plot(running_mean(mserrors[1, trial, :, 0], window), label=None, color=colours[0], lw=1, alpha=0.25)\n",
    "\n",
    "plt.ylim([0., 5.])\n",
    "plt.title(\"Task 1\", fontsize=18)\n",
    "plt.xlabel(\"Training Iterations\", fontsize=16)\n",
    "plt.ylabel(\"MSE\", fontsize=16)\n",
    "plt.tick_params(top=False, right=False, labelsize=14)\n",
    "_ = plt.xlim([0, 1000])\n",
    "plt.ylim([0., 3.])\n",
    "\n",
    "plt.subplot(1, 2, 2)\n",
    "plt.plot(running_mean(mserrors[0, ..., 1].mean(0), window), label=\"TD\", color=colours[1], lw=2)\n",
    "plt.plot(running_mean(mserrors[1, ..., 1].mean(0), window), label=\"Distributional TD\", color=colours[0], lw=2)\n",
    "\n",
    "for trial in range(num_trials):\n",
    "  plt.plot(running_mean(mserrors[0, trial, :, 1], window), label=None, color=colours[1], lw=1, alpha=0.25)\n",
    "  plt.plot(running_mean(mserrors[1, trial, :, 1], window), label=None, color=colours[0], lw=1, alpha=0.25)\n",
    "\n",
    "\n",
    "plt.title(\"Task 2\", fontsize=18)\n",
    "plt.xlabel(\"Training Iterations\", fontsize=16)\n",
    "plt.ylabel(\"MSE\", fontsize=16)\n",
    "plt.tick_params(top=False, right=False, labelsize=14)\n",
    "plt.legend(loc='best', fontsize=16)\n",
    "_ = plt.xlim([0, 1000])\n",
    "plt.ylim([0., 3.])\n",
    "\n",
    "plt.savefig(\"birddog_mse.pdf\")\n",
    "%download_file birddog_mse.pdf\n"
   ]
  },
  {
   "cell_type": "markdown",
   "metadata": {
    "colab_type": "text",
    "id": "nenm8WUqOKMa"
   },
   "source": [
    "## Analyze representation"
   ]
  },
  {
   "cell_type": "code",
   "execution_count": null,
   "metadata": {
    "colab": {},
    "colab_type": "code",
    "id": "1vLzMuTSJvEL"
   },
   "outputs": [],
   "source": [
    "ex1_td_init_tsne = TSNE(n_components=2).fit_transform(ex1_td_init_features)\n",
    "ex1_dtd_init_tsne = TSNE(n_components=2).fit_transform(ex1_dtd_init_features)\n",
    "\n",
    "ex2_td_init_tsne = TSNE(n_components=2).fit_transform(ex2_td_init_features)\n",
    "ex2_dtd_init_tsne = TSNE(n_components=2).fit_transform(ex2_dtd_init_features)\n",
    "\n",
    "ex1_td_init_pca = PCA(n_components=2).fit_transform(ex1_td_init_features)\n",
    "ex1_dtd_init_pca = PCA(n_components=2).fit_transform(ex1_dtd_init_features)\n",
    "\n",
    "ex2_td_init_pca = PCA(n_components=2).fit_transform(ex2_td_init_features)\n",
    "ex2_dtd_init_pca = PCA(n_components=2).fit_transform(ex2_dtd_init_features)"
   ]
  },
  {
   "cell_type": "code",
   "execution_count": null,
   "metadata": {
    "colab": {},
    "colab_type": "code",
    "id": "oLnArbMoWLCs"
   },
   "outputs": [],
   "source": [
    "ex1_td_tsne = TSNE(n_components=2).fit_transform(ex1_td_features)\n",
    "ex1_dtd_tsne = TSNE(n_components=2).fit_transform(ex1_dtd_features)\n",
    "\n",
    "ex2_td_tsne = TSNE(n_components=2).fit_transform(ex2_td_features)\n",
    "ex2_dtd_tsne = TSNE(n_components=2).fit_transform(ex2_dtd_features)\n",
    "\n",
    "ex1_td_pca = PCA(n_components=2).fit_transform(ex1_td_features)\n",
    "ex1_dtd_pca = PCA(n_components=2).fit_transform(ex1_dtd_features)\n",
    "\n",
    "ex2_td_pca = PCA(n_components=2).fit_transform(ex2_td_features)\n",
    "ex2_dtd_pca = PCA(n_components=2).fit_transform(ex2_dtd_features)"
   ]
  },
  {
   "cell_type": "code",
   "execution_count": null,
   "metadata": {
    "colab": {},
    "colab_type": "code",
    "id": "iH9NmXdTXdsq"
   },
   "outputs": [],
   "source": [
    "tex1_td_tsne = TSNE(n_components=2).fit_transform(tex1_td_features)\n",
    "tex1_dtd_tsne = TSNE(n_components=2).fit_transform(tex1_dtd_features)\n",
    "\n",
    "tex2_td_tsne = TSNE(n_components=2).fit_transform(tex2_td_features)\n",
    "tex2_dtd_tsne = TSNE(n_components=2).fit_transform(tex2_dtd_features)\n",
    "\n",
    "tex1_td_pca = PCA(n_components=2).fit_transform(tex1_td_features)\n",
    "tex1_dtd_pca = PCA(n_components=2).fit_transform(tex1_dtd_features)\n",
    "\n",
    "tex2_td_pca = PCA(n_components=2).fit_transform(tex2_td_features)\n",
    "tex2_dtd_pca = PCA(n_components=2).fit_transform(tex2_dtd_features)"
   ]
  },
  {
   "cell_type": "code",
   "execution_count": null,
   "metadata": {
    "colab": {},
    "colab_type": "code",
    "id": "RB4yASu5Ic5f"
   },
   "outputs": [],
   "source": [
    "def color_sort(values):\n",
    "  order = list(enumerate(np.argsort(values)))\n",
    "  return np.array(sorted(order, key=lambda k: k[1]))[:, 0] / float(len(values))\n"
   ]
  },
  {
   "cell_type": "code",
   "execution_count": null,
   "metadata": {
    "colab": {},
    "colab_type": "code",
    "id": "NgtWVgaOHzwz"
   },
   "outputs": [],
   "source": [
    "N = ex1_td_tsne.shape[0]\n",
    "order_td1 = color_sort(ex1_td_init_tsne.sum(-1))\n",
    "order_td2 = color_sort(ex2_td_init_tsne.sum(-1))\n",
    "\n",
    "order_dtd1 = color_sort(ex1_dtd_init_tsne.sum(-1))\n",
    "order_dtd2 = color_sort(ex2_dtd_init_tsne.sum(-1))\n"
   ]
  },
  {
   "cell_type": "code",
   "execution_count": null,
   "metadata": {
    "colab": {
     "height": 734
    },
    "colab_type": "code",
    "executionInfo": {
     "elapsed": 7633,
     "status": "ok",
     "timestamp": 1572437178869,
     "user": {
      "displayName": "Will Dabney",
      "photoUrl": "https://lh3.googleusercontent.com/a-/AAuE7mCOxUtioWGFXw0drXIZim8YK5cY80SC28F5s1BF=s64",
      "userId": "17850665393886971433"
     },
     "user_tz": 0
    },
    "id": "KkGKJbWBWXb4",
    "outputId": "fba42816-af3c-400c-e5d3-37ce395bcbf3"
   },
   "outputs": [],
   "source": [
    "plt.figure(figsize=(20, 12))\n",
    "\n",
    "td_colors = [plt.cm.Blues, plt.cm.Reds]\n",
    "dtd_colors = [plt.cm.Blues, plt.cm.Reds]\n",
    "\n",
    "kwargs = dict(linewidth=0, alpha=0.75)\n",
    "\n",
    "plt.subplot(3, 4, 1)\n",
    "plt.scatter(ex1_td_init_tsne[:, 0], ex1_td_init_tsne[:, 1], c=td_colors[0](order_td1), **kwargs)\n",
    "plt.scatter(ex2_td_init_tsne[:, 0], ex2_td_init_tsne[:, 1], c=td_colors[1](order_td2), **kwargs)\n",
    "plt.tick_params(top=False, right=False)\n",
    "plt.title(\"TD Task1 (t-SNE)\", fontsize=14)\n",
    "\n",
    "plt.subplot(3, 4, 2)\n",
    "plt.scatter(ex1_dtd_init_tsne[:, 0], ex1_dtd_init_tsne[:, 1], c=dtd_colors[0](order_dtd1), **kwargs)\n",
    "plt.scatter(ex2_dtd_init_tsne[:, 0], ex2_dtd_init_tsne[:, 1], c=dtd_colors[1](order_dtd2), **kwargs)\n",
    "plt.tick_params(top=False, right=False)\n",
    "plt.title(\"DistTD Task1 (t-SNE)\", fontsize=14)\n",
    "\n",
    "plt.subplot(3, 4, 3)\n",
    "plt.scatter(ex1_td_init_pca[:, 0], ex1_td_init_pca[:, 1], c=td_colors[0](order_td1), **kwargs)\n",
    "plt.scatter(ex2_td_init_pca[:, 0], ex2_td_init_pca[:, 1], c=td_colors[1](order_td2), **kwargs)\n",
    "plt.tick_params(top=False, right=False)\n",
    "plt.title(\"TD Task1 (PCA)\", fontsize=14)\n",
    "\n",
    "plt.subplot(3, 4, 4)\n",
    "plt.scatter(ex1_dtd_init_pca[:, 0], ex1_dtd_init_pca[:, 1], c=dtd_colors[0](order_dtd1), **kwargs)\n",
    "plt.scatter(ex2_dtd_init_pca[:, 0], ex2_dtd_init_pca[:, 1], c=dtd_colors[1](order_dtd2), **kwargs)\n",
    "plt.tick_params(top=False, right=False)\n",
    "plt.title(\"DistTD Task1 (PCA)\", fontsize=14)\n",
    "\n",
    "# Task1 trained\n",
    "plt.subplot(3, 4, 5)\n",
    "plt.scatter(ex1_td_tsne[:, 0], ex1_td_tsne[:, 1], c=td_colors[0](order_td1), **kwargs)\n",
    "plt.scatter(ex2_td_tsne[:, 0], ex2_td_tsne[:, 1], c=td_colors[1](order_td2), **kwargs)\n",
    "plt.tick_params(top=False, right=False)\n",
    "plt.title(\"TD Task1 (t-SNE)\", fontsize=14)\n",
    "\n",
    "plt.subplot(3, 4, 6)\n",
    "plt.scatter(ex1_dtd_tsne[:, 0], ex1_dtd_tsne[:, 1], c=dtd_colors[0](order_dtd1), **kwargs)\n",
    "plt.scatter(ex2_dtd_tsne[:, 0], ex2_dtd_tsne[:, 1], c=dtd_colors[1](order_dtd2), **kwargs)\n",
    "plt.tick_params(top=False, right=False)\n",
    "plt.title(\"DistTD Task1 (t-SNE)\", fontsize=14)\n",
    "\n",
    "plt.subplot(3, 4, 7)\n",
    "plt.scatter(ex1_td_pca[:, 0], ex1_td_tsne[:, 1], c=td_colors[0](order_td1), **kwargs)\n",
    "plt.scatter(ex2_td_pca[:, 0], ex2_td_tsne[:, 1], c=td_colors[1](order_td2), **kwargs)\n",
    "plt.tick_params(top=False, right=False)\n",
    "plt.title(\"TD Task1 (PCA)\", fontsize=14)\n",
    "\n",
    "plt.subplot(3, 4, 8)\n",
    "plt.scatter(ex1_dtd_pca[:, 0], ex1_dtd_pca[:, 1], c=dtd_colors[0](order_dtd1), **kwargs)\n",
    "plt.scatter(ex2_dtd_pca[:, 0], ex2_dtd_pca[:, 1], c=dtd_colors[1](order_dtd2), **kwargs)\n",
    "plt.tick_params(top=False, right=False)\n",
    "plt.title(\"DistTD Task1 (PCA)\", fontsize=14)\n",
    "\n",
    "# Transfer\n",
    "plt.subplot(3, 4, 9)\n",
    "plt.scatter(tex1_td_tsne[:, 0], tex1_td_tsne[:, 1], c=td_colors[0](order_td1), **kwargs)\n",
    "plt.scatter(tex2_td_tsne[:, 0], tex2_td_tsne[:, 1], c=td_colors[1](order_td2), **kwargs)\n",
    "plt.tick_params(top=False, right=False)\n",
    "plt.title(\"TD Task2 (t-SNE)\", fontsize=14)\n",
    "\n",
    "plt.subplot(3, 4, 10)\n",
    "plt.scatter(tex1_dtd_tsne[:, 0], tex1_dtd_tsne[:, 1], c=dtd_colors[0](order_dtd1), **kwargs)\n",
    "plt.scatter(tex2_dtd_tsne[:, 0], tex2_dtd_tsne[:, 1], c=dtd_colors[1](order_dtd2), **kwargs)\n",
    "plt.tick_params(top=False, right=False)\n",
    "plt.title(\"DistTD Task2 (t-SNE)\", fontsize=14)\n",
    "\n",
    "plt.subplot(3, 4, 11)\n",
    "plt.scatter(tex1_td_pca[:, 0], tex1_td_pca[:, 1], c=td_colors[0](order_td1), **kwargs)\n",
    "plt.scatter(tex2_td_pca[:, 0], tex2_td_pca[:, 1], c=td_colors[1](order_td2), **kwargs)\n",
    "plt.tick_params(top=False, right=False)\n",
    "plt.title(\"TD Task2 (PCA)\", fontsize=14)\n",
    "\n",
    "plt.subplot(3, 4, 12)\n",
    "plt.scatter(tex1_dtd_pca[:, 0], tex1_dtd_pca[:, 1], c=dtd_colors[0](order_dtd1), **kwargs)\n",
    "plt.scatter(tex2_dtd_pca[:, 0], tex2_dtd_pca[:, 1], c=dtd_colors[1](order_dtd2), **kwargs)\n",
    "plt.tick_params(top=False, right=False)\n",
    "plt.title(\"DistTD Task2 (PCA)\", fontsize=14)\n",
    "\n",
    "plt.savefig(\"birddog_analysis2d.pdf\")\n",
    "%download_file birddog_analysis2d.pdf\n"
   ]
  },
  {
   "cell_type": "code",
   "execution_count": null,
   "metadata": {
    "colab": {},
    "colab_type": "code",
    "id": "wU70wUsWZgiq"
   },
   "outputs": [],
   "source": [
    "from mpl_toolkits.mplot3d import Axes3D"
   ]
  },
  {
   "cell_type": "code",
   "execution_count": null,
   "metadata": {
    "colab": {},
    "colab_type": "code",
    "id": "6G5tp42DMeKO"
   },
   "outputs": [],
   "source": [
    "ex1_td_init_tsne = TSNE(n_components=3).fit_transform(ex1_td_init_features)\n",
    "ex1_dtd_init_tsne = TSNE(n_components=3).fit_transform(ex1_dtd_init_features)\n",
    "\n",
    "ex2_td_init_tsne = TSNE(n_components=3).fit_transform(ex2_td_init_features)\n",
    "ex2_dtd_init_tsne = TSNE(n_components=3).fit_transform(ex2_dtd_init_features)\n",
    "\n",
    "ex1_td_init_pca = PCA(n_components=3).fit_transform(ex1_td_init_features)\n",
    "ex1_dtd_init_pca = PCA(n_components=3).fit_transform(ex1_dtd_init_features)\n",
    "\n",
    "ex2_td_init_pca = PCA(n_components=3).fit_transform(ex2_td_init_features)\n",
    "ex2_dtd_init_pca = PCA(n_components=3).fit_transform(ex2_dtd_init_features)"
   ]
  },
  {
   "cell_type": "code",
   "execution_count": null,
   "metadata": {
    "colab": {},
    "colab_type": "code",
    "id": "BM038RT3eFU3"
   },
   "outputs": [],
   "source": [
    "ex1_td_tsne = TSNE(n_components=3).fit_transform(ex1_td_features)\n",
    "ex1_dtd_tsne = TSNE(n_components=3).fit_transform(ex1_dtd_features)\n",
    "\n",
    "ex2_td_tsne = TSNE(n_components=3).fit_transform(ex2_td_features)\n",
    "ex2_dtd_tsne = TSNE(n_components=3).fit_transform(ex2_dtd_features)\n",
    "\n",
    "ex1_td_pca = PCA(n_components=3).fit_transform(ex1_td_features)\n",
    "ex1_dtd_pca = PCA(n_components=3).fit_transform(ex1_dtd_features)\n",
    "\n",
    "ex2_td_pca = PCA(n_components=3).fit_transform(ex2_td_features)\n",
    "ex2_dtd_pca = PCA(n_components=3).fit_transform(ex2_dtd_features)"
   ]
  },
  {
   "cell_type": "code",
   "execution_count": null,
   "metadata": {
    "colab": {},
    "colab_type": "code",
    "id": "EAoUE56ieFU6"
   },
   "outputs": [],
   "source": [
    "tex1_td_tsne = TSNE(n_components=3).fit_transform(tex1_td_features)\n",
    "tex1_dtd_tsne = TSNE(n_components=3).fit_transform(tex1_dtd_features)\n",
    "\n",
    "tex2_td_tsne = TSNE(n_components=3).fit_transform(tex2_td_features)\n",
    "tex2_dtd_tsne = TSNE(n_components=3).fit_transform(tex2_dtd_features)\n",
    "\n",
    "tex1_td_pca = PCA(n_components=3).fit_transform(tex1_td_features)\n",
    "tex1_dtd_pca = PCA(n_components=3).fit_transform(tex1_dtd_features)\n",
    "\n",
    "tex2_td_pca = PCA(n_components=3).fit_transform(tex2_td_features)\n",
    "tex2_dtd_pca = PCA(n_components=3).fit_transform(tex2_dtd_features)"
   ]
  },
  {
   "cell_type": "code",
   "execution_count": null,
   "metadata": {
    "colab": {},
    "colab_type": "code",
    "id": "9FAIC9gSad9p"
   },
   "outputs": [],
   "source": [
    "N = ex1_td_tsne.shape[0]\n",
    "order_td1 = color_sort(ex1_td_init_tsne.sum(-1))\n",
    "order_td2 = color_sort(ex2_td_init_tsne.sum(-1))\n",
    "\n",
    "order_dtd1 = color_sort(ex1_dtd_init_tsne.sum(-1))\n",
    "order_dtd2 = color_sort(ex2_dtd_init_tsne.sum(-1))\n",
    "\n",
    "# order_td1 = color_sort(ex1_td_tsne.sum(-1))\n",
    "# order_td2 = color_sort(ex2_td_tsne.sum(-1))\n",
    "\n",
    "# order_dtd1 = color_sort(ex1_dtd_tsne.sum(-1))\n",
    "# order_dtd2 = color_sort(ex2_dtd_tsne.sum(-1))\n"
   ]
  },
  {
   "cell_type": "code",
   "execution_count": null,
   "metadata": {
    "colab": {
     "height": 702
    },
    "colab_type": "code",
    "executionInfo": {
     "elapsed": 10103,
     "status": "ok",
     "timestamp": 1572437708000,
     "user": {
      "displayName": "Will Dabney",
      "photoUrl": "https://lh3.googleusercontent.com/a-/AAuE7mCOxUtioWGFXw0drXIZim8YK5cY80SC28F5s1BF=s64",
      "userId": "17850665393886971433"
     },
     "user_tz": 0
    },
    "id": "zVmSXlqbMtle",
    "outputId": "2a8f1d43-cdaf-4409-9a4e-bb74e4e884b5"
   },
   "outputs": [],
   "source": [
    "plt.figure(figsize=(20, 12))\n",
    "\n",
    "td_colors = [plt.cm.Blues, plt.cm.Reds]\n",
    "dtd_colors = [plt.cm.Blues, plt.cm.Reds]\n",
    "\n",
    "kwargs = dict(linewidth=0, alpha=0.75)\n",
    "\n",
    "ax = plt.subplot(3, 4, 1, projection='3d')\n",
    "ax.scatter(ex1_td_init_tsne[:, 0], ex1_td_init_tsne[:, 1], ex1_td_init_tsne[:, 2], c=td_colors[0](order_td1), **kwargs)\n",
    "ax.scatter(ex2_td_init_tsne[:, 0], ex2_td_init_tsne[:, 1], ex2_td_init_tsne[:, 2], c=td_colors[1](order_td2), **kwargs)\n",
    "plt.tick_params(top=False, right=False)\n",
    "plt.title(\"TD Task1 (t-SNE)\", fontsize=14)\n",
    "\n",
    "ax = plt.subplot(3, 4, 2, projection='3d')\n",
    "ax.scatter(ex1_dtd_init_tsne[:, 0], ex1_dtd_init_tsne[:, 1], ex1_dtd_init_tsne[:, 2], c=dtd_colors[0](order_dtd1), **kwargs)\n",
    "ax.scatter(ex2_dtd_init_tsne[:, 0], ex2_dtd_init_tsne[:, 1], ex2_dtd_init_tsne[:, 2], c=dtd_colors[1](order_dtd2), **kwargs)\n",
    "plt.tick_params(top=False, right=False)\n",
    "plt.title(\"DistTD Task1 (t-SNE)\", fontsize=14)\n",
    "\n",
    "ax = plt.subplot(3, 4, 3, projection='3d')\n",
    "ax.scatter(ex1_td_init_pca[:, 0], ex1_td_init_pca[:, 1], ex1_td_init_pca[:, 2], c=td_colors[0](order_td1), **kwargs)\n",
    "ax.scatter(ex2_td_init_pca[:, 0], ex2_td_init_pca[:, 1], ex2_td_init_pca[:, 2], c=td_colors[1](order_td2), **kwargs)\n",
    "plt.tick_params(top=False, right=False)\n",
    "plt.title(\"TD Task1 (PCA)\", fontsize=14)\n",
    "\n",
    "ax = plt.subplot(3, 4, 4, projection='3d')\n",
    "ax.scatter(ex1_dtd_init_pca[:, 0], ex1_dtd_init_pca[:, 1], ex1_dtd_init_pca[:, 2], c=dtd_colors[0](order_dtd1), **kwargs)\n",
    "ax.scatter(ex2_dtd_init_pca[:, 0], ex2_dtd_init_pca[:, 1], ex2_dtd_init_pca[:, 2], c=dtd_colors[1](order_dtd2), **kwargs)\n",
    "plt.tick_params(top=False, right=False)\n",
    "plt.title(\"DistTD Task1 (PCA)\", fontsize=14)\n",
    "\n",
    "# Task1 trained\n",
    "ax = plt.subplot(3, 4, 5, projection='3d')\n",
    "ax.scatter(ex1_td_tsne[:, 0], ex1_td_tsne[:, 1], ex1_td_tsne[:, 2], c=td_colors[0](order_td1), **kwargs)\n",
    "ax.scatter(ex2_td_tsne[:, 0], ex2_td_tsne[:, 1], ex2_td_tsne[:, 2], c=td_colors[1](order_td2), **kwargs)\n",
    "plt.tick_params(top=False, right=False)\n",
    "plt.title(\"TD Task1 (t-SNE)\", fontsize=14)\n",
    "\n",
    "ax = plt.subplot(3, 4, 6, projection='3d')\n",
    "ax.scatter(ex1_dtd_tsne[:, 0], ex1_dtd_tsne[:, 1], ex1_dtd_tsne[:, 2], c=dtd_colors[0](order_dtd1), **kwargs)\n",
    "ax.scatter(ex2_dtd_tsne[:, 0], ex2_dtd_tsne[:, 1], ex2_dtd_tsne[:, 2], c=dtd_colors[1](order_dtd2), **kwargs)\n",
    "plt.tick_params(top=False, right=False)\n",
    "plt.title(\"DistTD Task1 (t-SNE)\", fontsize=14)\n",
    "\n",
    "ax = plt.subplot(3, 4, 7, projection='3d')\n",
    "ax.scatter(ex1_td_pca[:, 0], ex1_td_pca[:, 1], ex1_td_pca[:, 2], c=td_colors[0](order_td1), **kwargs)\n",
    "ax.scatter(ex2_td_pca[:, 0], ex2_td_pca[:, 1], ex2_td_pca[:, 2], c=td_colors[1](order_td2), **kwargs)\n",
    "plt.tick_params(top=False, right=False)\n",
    "plt.title(\"TD Task1 (PCA)\", fontsize=14)\n",
    "\n",
    "ax = plt.subplot(3, 4, 8, projection='3d')\n",
    "ax.scatter(ex1_dtd_pca[:, 0], ex1_dtd_pca[:, 1], ex1_dtd_pca[:, 2], c=dtd_colors[0](order_dtd1), **kwargs)\n",
    "ax.scatter(ex2_dtd_pca[:, 0], ex2_dtd_pca[:, 1], ex2_dtd_pca[:, 2], c=dtd_colors[1](order_dtd2), **kwargs)\n",
    "plt.tick_params(top=False, right=False)\n",
    "plt.title(\"DistTD Task1 (PCA)\", fontsize=14)\n",
    "\n",
    "# Transfer\n",
    "ax = plt.subplot(3, 4, 9, projection='3d')\n",
    "ax.scatter(tex1_td_tsne[:, 0], tex1_td_tsne[:, 1], tex1_td_tsne[:, 2], c=td_colors[0](order_td1), **kwargs)\n",
    "ax.scatter(tex2_td_tsne[:, 0], tex2_td_tsne[:, 1], tex2_td_tsne[:, 2], c=td_colors[1](order_td2), **kwargs)\n",
    "plt.tick_params(top=False, right=False)\n",
    "plt.title(\"TD Task2 (t-SNE)\", fontsize=14)\n",
    "\n",
    "ax = plt.subplot(3, 4, 10, projection='3d')\n",
    "ax.scatter(tex1_dtd_tsne[:, 0], tex1_dtd_tsne[:, 1], tex1_dtd_tsne[:, 2], c=dtd_colors[0](order_dtd1), **kwargs)\n",
    "ax.scatter(tex2_dtd_tsne[:, 0], tex2_dtd_tsne[:, 1], tex2_dtd_tsne[:, 2], c=dtd_colors[1](order_dtd2), **kwargs)\n",
    "plt.tick_params(top=False, right=False)\n",
    "plt.title(\"DistTD Task2 (t-SNE)\", fontsize=14)\n",
    "\n",
    "ax = plt.subplot(3, 4, 11, projection='3d')\n",
    "ax.scatter(tex1_td_pca[:, 0], tex1_td_pca[:, 1], tex1_td_pca[:, 2], c=td_colors[0](order_td1), **kwargs)\n",
    "ax.scatter(tex2_td_pca[:, 0], tex2_td_pca[:, 1], tex2_td_pca[:, 2], c=td_colors[1](order_td2), **kwargs)\n",
    "plt.tick_params(top=False, right=False)\n",
    "plt.title(\"TD Task2 (PCA)\", fontsize=14)\n",
    "\n",
    "ax = plt.subplot(3, 4, 12, projection='3d')\n",
    "ax.scatter(tex1_dtd_pca[:, 0], tex1_dtd_pca[:, 1], tex1_dtd_pca[:, 2], c=dtd_colors[0](order_dtd1), **kwargs)\n",
    "ax.scatter(tex2_dtd_pca[:, 0], tex2_dtd_pca[:, 1], tex2_dtd_pca[:, 2], c=dtd_colors[1](order_dtd2), **kwargs)\n",
    "plt.tick_params(top=False, right=False)\n",
    "plt.title(\"DistTD Task2 (PCA)\", fontsize=14)\n",
    "\n",
    "plt.savefig(\"birddog_analysis3d.pdf\")\n",
    "%download_file birddog_analysis3d.pdf\n"
   ]
  },
  {
   "cell_type": "code",
   "execution_count": null,
   "metadata": {
    "colab": {},
    "colab_type": "code",
    "id": "0q83HX7Afjyv"
   },
   "outputs": [],
   "source": []
  },
  {
   "cell_type": "markdown",
   "metadata": {
    "colab_type": "text",
    "id": "qTkk_ecCNeNL"
   },
   "source": [
    "## Negative transfer experiment"
   ]
  },
  {
   "cell_type": "code",
   "execution_count": null,
   "metadata": {
    "colab": {},
    "colab_type": "code",
    "id": "oKaJ5faGNrwh"
   },
   "outputs": [],
   "source": [
    "def sample_test_images_neg(batch_size):\n",
    "  permutation1 = np.random.permutation(len(test_class1_neg))\n",
    "  permutation2 = np.random.permutation(len(test_class2_neg))\n",
    "  return test_class1_neg[permutation1], test_class2_neg[permutation2]\n",
    "\n",
    "\n",
    "def sample_trajectory_neg(pi, batch_size):\n",
    "  images = np.zeros((batch_size, ) + train_class1_neg[0].shape)\n",
    "  rewards = np.zeros(batch_size)\n",
    "  \n",
    "  for b in range(batch_size):\n",
    "    if np.random.random() < 0.5:\n",
    "      images[b] = train_class2_neg[np.random.randint(len(train_class2_neg))]\n",
    "      rewards[b] = 1.\n",
    "    else:\n",
    "      images[b] = train_class1_neg[np.random.randint(len(train_class1_neg))]\n",
    "      rewards[b] = 3. if np.random.random() < pi[0] else -1.\n",
    "\n",
    "  return images, rewards\n",
    "\n"
   ]
  },
  {
   "cell_type": "code",
   "execution_count": null,
   "metadata": {
    "colab": {
     "height": 34
    },
    "colab_type": "code",
    "executionInfo": {
     "elapsed": 1330,
     "status": "ok",
     "timestamp": 1572437710468,
     "user": {
      "displayName": "Will Dabney",
      "photoUrl": "https://lh3.googleusercontent.com/a-/AAuE7mCOxUtioWGFXw0drXIZim8YK5cY80SC28F5s1BF=s64",
      "userId": "17850665393886971433"
     },
     "user_tz": 0
    },
    "id": "2ybaUFQKNjzr",
    "outputId": "57bf62a5-234e-477f-c018-93bb1270be34"
   },
   "outputs": [],
   "source": [
    "tf.reset_default_graph()\n",
    "tf.Session.reset(\"local\")\n",
    "print('Setting up graph...')\n",
    "\n",
    "width, height = 32, 32\n",
    "batch_size = 256\n",
    "\n",
    "input_ph = tf.placeholder(tf.float32, shape=[None, width, height, 3], name=\"images\")\n",
    "reward_ph = tf.placeholder(tf.float32, shape=[None], name=\"rewards\")\n",
    "\n",
    "pi = 0.5  # Probability of 'happy' dog (outcome 0) for Task 1\n",
    "mu = 1.0  # Probability of 'happy' dog (outcome 0) for Task 2\n",
    "\n",
    "# Classic TD\n",
    "value_net = Cifar10ValueNet(1)\n",
    "output = value_net(input_ph)\n",
    "values = tf.reshape(output.values, [-1])\n",
    "td_features = output.activations\n",
    "\n",
    "delta = reward_ph - values\n",
    "td_loss = tf.reduce_mean(tf.square(delta))\n",
    "mse = tf.reduce_mean(tf.square(reward_ph - values))\n",
    "\n",
    "\n",
    "# Distributional TD\n",
    "n_atoms = 65\n",
    "dist_net = Cifar10ValueNet(n_atoms)\n",
    "taus_np = np.linspace(0., 1., n_atoms+2)[1:-1]\n",
    "taus = tf.constant(taus_np, dtype=tf.float32)\n",
    "\n",
    "output = dist_net(input_ph)\n",
    "dist_values = output.values\n",
    "dtd_features = output.activations\n",
    "\n",
    "delta = reward_ph[:, None] - dist_values\n",
    "indic = tf.cast(delta <= 0., dtype=tf.float32)\n",
    "weights = tf.abs(taus[None] - indic)\n",
    "\n",
    "#dtd_loss = tf.reduce_mean(weights * tf.abs(delta))\n",
    "dtd_loss = tf.reduce_mean(weights * tf.square(delta))\n",
    "mse_dtd = tf.reduce_mean(tf.square(reward_ph - tf.reduce_mean(dist_values, -1)))\n",
    "\n",
    "optimizer = tf.train.AdamOptimizer(0.0005)\n",
    "update = optimizer.minimize(td_loss + dtd_loss)\n"
   ]
  },
  {
   "cell_type": "code",
   "execution_count": null,
   "metadata": {
    "colab": {},
    "colab_type": "code",
    "id": "-7akprOU9voi"
   },
   "outputs": [],
   "source": []
  },
  {
   "cell_type": "code",
   "execution_count": null,
   "metadata": {
    "colab": {
     "height": 1000
    },
    "colab_type": "code",
    "executionInfo": {
     "elapsed": 2132338,
     "status": "ok",
     "timestamp": 1572439843304,
     "user": {
      "displayName": "Will Dabney",
      "photoUrl": "https://lh3.googleusercontent.com/a-/AAuE7mCOxUtioWGFXw0drXIZim8YK5cY80SC28F5s1BF=s64",
      "userId": "17850665393886971433"
     },
     "user_tz": 0
    },
    "id": "QWgXMjstNjzu",
    "outputId": "db270184-da93-4b0d-8ce3-d3efeb498cde"
   },
   "outputs": [],
   "source": [
    "\n",
    "num_updates = 1000#2500\n",
    "num_trials = 10\n",
    "\n",
    "losses = np.zeros((2, num_trials, num_updates,))\n",
    "transfer_losses = np.zeros((2, num_trials, num_updates,))\n",
    "mserrors = np.zeros((2, num_trials, num_updates, 2))\n",
    "\n",
    "for trial in range(num_trials):\n",
    "  with tf.Session() as sess:\n",
    "    sess.run(tf.initialize_all_variables())\n",
    "\n",
    "    # Train (on train set) for original task/policy\n",
    "    for epoch in range(num_updates):\n",
    "      imgs, rwds = sample_trial(pi, batch_size, train_class1, train_class2)\n",
    "      _, loss_np, dloss_np, mse_np, dmse_np = sess.run(\n",
    "          [update, td_loss, dtd_loss, mse, mse_dtd],\n",
    "          feed_dict={input_ph: imgs, reward_ph: rwds})\n",
    "\n",
    "      losses[0, trial, epoch] = loss_np\n",
    "      losses[1, trial, epoch] = dloss_np\n",
    "\n",
    "      mserrors[0, trial, epoch, 0] = mse_np\n",
    "      mserrors[1, trial, epoch, 0] = dmse_np\n",
    "\n",
    "      if epoch % 100 == 0:\n",
    "        print(\"%d: Loss %d: %f, %f\" % (trial, epoch, loss_np, dloss_np))\n",
    "\n",
    "    # Train (on train set) for transfer\n",
    "    for epoch in range(num_updates):\n",
    "      imgs, rwds = sample_trial(mu, batch_size, train_neg_class1, train_neg_class2)\n",
    "      _, loss_np, dloss_np, mse_np, dmse_np = sess.run(\n",
    "          [update, td_loss, dtd_loss, mse, mse_dtd],\n",
    "          feed_dict={input_ph: imgs, reward_ph: rwds})\n",
    "\n",
    "      transfer_losses[0, trial, epoch] = loss_np\n",
    "      transfer_losses[1, trial, epoch] = dloss_np\n",
    "\n",
    "      mserrors[0, trial, epoch, 1] = mse_np\n",
    "      mserrors[1, trial, epoch, 1] = dmse_np\n",
    "\n",
    "      if epoch % 100 == 0:\n",
    "        print(\"%d: Loss %d: %f %f\" % (trial, epoch, loss_np, dloss_np))\n"
   ]
  },
  {
   "cell_type": "code",
   "execution_count": null,
   "metadata": {
    "colab": {},
    "colab_type": "code",
    "id": "Dnbx5-z5OUlD"
   },
   "outputs": [],
   "source": []
  },
  {
   "cell_type": "markdown",
   "metadata": {
    "colab_type": "text",
    "id": "z6xg_eKGOUts"
   },
   "source": [
    "## Visualize results"
   ]
  },
  {
   "cell_type": "code",
   "execution_count": null,
   "metadata": {
    "colab": {},
    "colab_type": "code",
    "id": "UnYhj3F5OUtt"
   },
   "outputs": [],
   "source": [
    "colours = [\n",
    "    '#e74c3c',\n",
    "    '#38495C',\n",
    "]"
   ]
  },
  {
   "cell_type": "code",
   "execution_count": null,
   "metadata": {
    "colab": {
     "height": 325
    },
    "colab_type": "code",
    "executionInfo": {
     "elapsed": 1150,
     "status": "ok",
     "timestamp": 1572439845404,
     "user": {
      "displayName": "Will Dabney",
      "photoUrl": "https://lh3.googleusercontent.com/a-/AAuE7mCOxUtioWGFXw0drXIZim8YK5cY80SC28F5s1BF=s64",
      "userId": "17850665393886971433"
     },
     "user_tz": 0
    },
    "id": "rSklbTFzOUtv",
    "outputId": "4696457a-30f3-4061-c9c7-8b223085b8c2"
   },
   "outputs": [],
   "source": [
    "plt.figure(figsize=(12, 4))\n",
    "window = 10\n",
    "\n",
    "plt.subplot(1, 2, 1)\n",
    "plt.plot(running_mean(losses[0].mean(0), window), label=\"TD\", color=colours[1], lw=2)\n",
    "plt.plot(running_mean(losses[1].mean(0), window), label=\"Distributional TD\", color=colours[0], lw=2)\n",
    "\n",
    "for trial in range(num_trials):\n",
    "  plt.plot(running_mean(losses[0, trial], window), label=None, color=colours[1], lw=1, alpha=0.25)\n",
    "  plt.plot(running_mean(losses[1, trial], window), label=None, color=colours[0], lw=1, alpha=0.25)\n",
    "\n",
    "plt.title(\"Task 1\", fontsize=18)\n",
    "plt.xlabel(\"Training Iterations\", fontsize=16)\n",
    "plt.ylabel(\"Loss\", fontsize=16)\n",
    "plt.tick_params(top=False, right=False, labelsize=14)\n",
    "plt.ylim([0., 5.])\n",
    "\n",
    "plt.subplot(1, 2, 2)\n",
    "plt.plot(running_mean(transfer_losses[0].mean(0), window), label=\"TD\", color=colours[1], lw=2)\n",
    "plt.plot(running_mean(transfer_losses[1].mean(0), window), label=\"Distributional TD\", color=colours[0], lw=2)\n",
    "\n",
    "for trial in range(num_trials):\n",
    "  plt.plot(running_mean(transfer_losses[0, trial], window), label=None, color=colours[1], lw=1, alpha=0.25)\n",
    "  plt.plot(running_mean(transfer_losses[1, trial], window), label=None, color=colours[0], lw=1, alpha=0.25)\n",
    "\n",
    "\n",
    "plt.title(\"Task 2\", fontsize=18)\n",
    "plt.xlabel(\"Training Iterations\", fontsize=16)\n",
    "plt.ylabel(\"Loss\", fontsize=16)\n",
    "plt.tick_params(top=False, right=False, labelsize=14)\n",
    "plt.legend(loc='best', fontsize=16)\n",
    "\n",
    "plt.savefig(\"birddog_loss.pdf\")\n",
    "%download_file birddog_loss.pdf"
   ]
  },
  {
   "cell_type": "code",
   "execution_count": null,
   "metadata": {
    "colab": {
     "height": 325
    },
    "colab_type": "code",
    "executionInfo": {
     "elapsed": 1216,
     "status": "ok",
     "timestamp": 1572439846648,
     "user": {
      "displayName": "Will Dabney",
      "photoUrl": "https://lh3.googleusercontent.com/a-/AAuE7mCOxUtioWGFXw0drXIZim8YK5cY80SC28F5s1BF=s64",
      "userId": "17850665393886971433"
     },
     "user_tz": 0
    },
    "id": "-eee41OiOUtz",
    "outputId": "98012f02-a8cd-442f-c0bd-3e0138fb79ea"
   },
   "outputs": [],
   "source": [
    "plt.figure(figsize=(12, 4))\n",
    "window = 10\n",
    "sns.set_style('whitegrid')\n",
    "\n",
    "plt.subplot(1, 2, 1)\n",
    "plt.plot(running_mean(mserrors[0, ..., 0].mean(0), window), label=\"TD\", color=colours[1], lw=2)\n",
    "plt.plot(running_mean(mserrors[1, ..., 0].mean(0), window), label=\"Distributional TD\", color=colours[0], lw=2)\n",
    "\n",
    "for trial in range(num_trials):\n",
    "  plt.plot(running_mean(mserrors[0, trial, :, 0], window), label=None, color=colours[1], lw=1, alpha=0.25)\n",
    "  plt.plot(running_mean(mserrors[1, trial, :, 0], window), label=None, color=colours[0], lw=1, alpha=0.25)\n",
    "\n",
    "plt.ylim([0., 5.])\n",
    "plt.title(\"Task 1\", fontsize=18)\n",
    "plt.xlabel(\"Training Iterations\", fontsize=16)\n",
    "plt.ylabel(\"MSE\", fontsize=16)\n",
    "plt.tick_params(top=False, right=False, labelsize=14)\n",
    "#_ = plt.xlim([0, 1000])\n",
    "plt.ylim([1.8, 3.2])\n",
    "\n",
    "plt.subplot(1, 2, 2)\n",
    "plt.plot(running_mean(mserrors[0, ..., 1].mean(0), window), label=\"TD\", color=colours[1], lw=2)\n",
    "plt.plot(running_mean(mserrors[1, ..., 1].mean(0), window), label=\"Distributional TD\", color=colours[0], lw=2)\n",
    "\n",
    "for trial in range(num_trials):\n",
    "  plt.plot(running_mean(mserrors[0, trial, :, 1], window), label=None, color=colours[1], lw=1, alpha=0.25)\n",
    "  plt.plot(running_mean(mserrors[1, trial, :, 1], window), label=None, color=colours[0], lw=1, alpha=0.25)\n",
    "\n",
    "\n",
    "plt.title(\"Task 2 (Different Classes)\", fontsize=18)\n",
    "plt.xlabel(\"Training Iterations\", fontsize=16)\n",
    "plt.ylabel(\"MSE\", fontsize=16)\n",
    "plt.tick_params(top=False, right=False, labelsize=14)\n",
    "plt.legend(loc='best', fontsize=16)\n",
    "#_ = plt.xlim([0, 1000])\n",
    "plt.ylim([0., 1.6])\n",
    "\n",
    "plt.savefig(\"birddog_mse.pdf\")\n",
    "%download_file birddog_mse.pdf\n"
   ]
  },
  {
   "cell_type": "code",
   "execution_count": null,
   "metadata": {
    "colab": {},
    "colab_type": "code",
    "id": "qUL2B-9zPlTI"
   },
   "outputs": [],
   "source": []
  }
 ],
 "metadata": {
  "colab": {
   "collapsed_sections": [],
   "last_runtime": {
    "build_target": "//learning/deepmind/dm_python:dm_notebook3",
    "kind": "private"
   },
   "name": "Bird-Dog Experiment.ipynb",
   "provenance": [
    {
     "file_id": "1n1BEzmp6luS33Jnml5eyvVsN3YxXn-Jd",
     "timestamp": 1559994977629
    }
   ]
  },
  "kernelspec": {
   "display_name": "Python 3",
   "language": "python",
   "name": "python3"
  },
  "language_info": {
   "codemirror_mode": {
    "name": "ipython",
    "version": 3
   },
   "file_extension": ".py",
   "mimetype": "text/x-python",
   "name": "python",
   "nbconvert_exporter": "python",
   "pygments_lexer": "ipython3",
   "version": "3.7.4"
  }
 },
 "nbformat": 4,
 "nbformat_minor": 1
}
